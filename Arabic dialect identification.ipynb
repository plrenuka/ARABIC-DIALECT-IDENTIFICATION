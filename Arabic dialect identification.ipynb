{
 "cells": [
  {
   "cell_type": "markdown",
   "metadata": {
    "id": "J6_G2oHb0yM6"
   },
   "source": [
    "# Natural Language Processing –\n",
    "# **ARABIC FINE-GRAINED DIALECT IDENTIFICATION**\n",
    "\n"
   ]
  },
  {
   "cell_type": "markdown",
   "metadata": {
    "id": "uua0HyGGGm0W"
   },
   "source": [
    "## Installation of required packages"
   ]
  },
  {
   "cell_type": "code",
   "execution_count": null,
   "metadata": {
    "colab": {
     "base_uri": "https://localhost:8080/"
    },
    "id": "O_iYwVts5HHS",
    "outputId": "020532cf-f05b-4ff8-977c-599df268aa25"
   },
   "outputs": [
    {
     "name": "stdout",
     "output_type": "stream",
     "text": [
      "Looking in indexes: https://pypi.org/simple, https://us-python.pkg.dev/colab-wheels/public/simple/\n",
      "Collecting transformers\n",
      "  Downloading transformers-4.21.2-py3-none-any.whl (4.7 MB)\n",
      "\u001b[K     |████████████████████████████████| 4.7 MB 7.5 MB/s \n",
      "\u001b[?25hRequirement already satisfied: pyyaml>=5.1 in /usr/local/lib/python3.7/dist-packages (from transformers) (6.0)\n",
      "Collecting huggingface-hub<1.0,>=0.1.0\n",
      "  Downloading huggingface_hub-0.9.1-py3-none-any.whl (120 kB)\n",
      "\u001b[K     |████████████████████████████████| 120 kB 12.4 MB/s \n",
      "\u001b[?25hRequirement already satisfied: tqdm>=4.27 in /usr/local/lib/python3.7/dist-packages (from transformers) (4.64.0)\n",
      "Requirement already satisfied: regex!=2019.12.17 in /usr/local/lib/python3.7/dist-packages (from transformers) (2022.6.2)\n",
      "Requirement already satisfied: packaging>=20.0 in /usr/local/lib/python3.7/dist-packages (from transformers) (21.3)\n",
      "Requirement already satisfied: numpy>=1.17 in /usr/local/lib/python3.7/dist-packages (from transformers) (1.21.6)\n",
      "Requirement already satisfied: filelock in /usr/local/lib/python3.7/dist-packages (from transformers) (3.8.0)\n",
      "Requirement already satisfied: requests in /usr/local/lib/python3.7/dist-packages (from transformers) (2.23.0)\n",
      "Requirement already satisfied: importlib-metadata in /usr/local/lib/python3.7/dist-packages (from transformers) (4.12.0)\n",
      "Collecting tokenizers!=0.11.3,<0.13,>=0.11.1\n",
      "  Downloading tokenizers-0.12.1-cp37-cp37m-manylinux_2_12_x86_64.manylinux2010_x86_64.whl (6.6 MB)\n",
      "\u001b[K     |████████████████████████████████| 6.6 MB 44.1 MB/s \n",
      "\u001b[?25hRequirement already satisfied: typing-extensions>=3.7.4.3 in /usr/local/lib/python3.7/dist-packages (from huggingface-hub<1.0,>=0.1.0->transformers) (4.1.1)\n",
      "Requirement already satisfied: pyparsing!=3.0.5,>=2.0.2 in /usr/local/lib/python3.7/dist-packages (from packaging>=20.0->transformers) (3.0.9)\n",
      "Requirement already satisfied: zipp>=0.5 in /usr/local/lib/python3.7/dist-packages (from importlib-metadata->transformers) (3.8.1)\n",
      "Requirement already satisfied: chardet<4,>=3.0.2 in /usr/local/lib/python3.7/dist-packages (from requests->transformers) (3.0.4)\n",
      "Requirement already satisfied: certifi>=2017.4.17 in /usr/local/lib/python3.7/dist-packages (from requests->transformers) (2022.6.15)\n",
      "Requirement already satisfied: urllib3!=1.25.0,!=1.25.1,<1.26,>=1.21.1 in /usr/local/lib/python3.7/dist-packages (from requests->transformers) (1.24.3)\n",
      "Requirement already satisfied: idna<3,>=2.5 in /usr/local/lib/python3.7/dist-packages (from requests->transformers) (2.10)\n",
      "Installing collected packages: tokenizers, huggingface-hub, transformers\n",
      "Successfully installed huggingface-hub-0.9.1 tokenizers-0.12.1 transformers-4.21.2\n"
     ]
    }
   ],
   "source": [
    "!pip install transformers"
   ]
  },
  {
   "cell_type": "code",
   "execution_count": null,
   "metadata": {
    "colab": {
     "base_uri": "https://localhost:8080/"
    },
    "id": "ROueSMqXWZsp",
    "outputId": "1defd482-538c-4c97-f559-c9e0b2f03b48"
   },
   "outputs": [
    {
     "name": "stdout",
     "output_type": "stream",
     "text": [
      "Looking in indexes: https://pypi.org/simple, https://us-python.pkg.dev/colab-wheels/public/simple/\n",
      "Collecting camel-tools\n",
      "  Downloading camel_tools-1.4.1-py3-none-any.whl (114 kB)\n",
      "\u001b[K     |████████████████████████████████| 114 kB 8.1 MB/s \n",
      "\u001b[?25hRequirement already satisfied: cachetools in /usr/local/lib/python3.7/dist-packages (from camel-tools) (4.2.4)\n",
      "Requirement already satisfied: requests in /usr/local/lib/python3.7/dist-packages (from camel-tools) (2.23.0)\n",
      "Requirement already satisfied: tabulate in /usr/local/lib/python3.7/dist-packages (from camel-tools) (0.8.10)\n",
      "Requirement already satisfied: editdistance in /usr/local/lib/python3.7/dist-packages (from camel-tools) (0.5.3)\n",
      "Collecting camel-kenlm\n",
      "  Downloading camel-kenlm-2021.12.27.tar.gz (418 kB)\n",
      "\u001b[K     |████████████████████████████████| 418 kB 50.1 MB/s \n",
      "\u001b[?25hRequirement already satisfied: numpy in /usr/local/lib/python3.7/dist-packages (from camel-tools) (1.21.6)\n",
      "Requirement already satisfied: future in /usr/local/lib/python3.7/dist-packages (from camel-tools) (0.16.0)\n",
      "Requirement already satisfied: torch>=1.3 in /usr/local/lib/python3.7/dist-packages (from camel-tools) (1.12.1+cu113)\n",
      "Requirement already satisfied: pandas in /usr/local/lib/python3.7/dist-packages (from camel-tools) (1.3.5)\n",
      "Requirement already satisfied: transformers>=3.0.2 in /usr/local/lib/python3.7/dist-packages (from camel-tools) (4.21.2)\n",
      "Requirement already satisfied: tqdm in /usr/local/lib/python3.7/dist-packages (from camel-tools) (4.64.0)\n",
      "Requirement already satisfied: pyrsistent in /usr/local/lib/python3.7/dist-packages (from camel-tools) (0.18.1)\n",
      "Requirement already satisfied: scipy in /usr/local/lib/python3.7/dist-packages (from camel-tools) (1.7.3)\n",
      "Requirement already satisfied: six in /usr/local/lib/python3.7/dist-packages (from camel-tools) (1.15.0)\n",
      "Collecting emoji\n",
      "  Downloading emoji-2.0.0.tar.gz (197 kB)\n",
      "\u001b[K     |████████████████████████████████| 197 kB 53.1 MB/s \n",
      "\u001b[?25hRequirement already satisfied: scikit-learn in /usr/local/lib/python3.7/dist-packages (from camel-tools) (1.0.2)\n",
      "Collecting docopt\n",
      "  Downloading docopt-0.6.2.tar.gz (25 kB)\n",
      "Requirement already satisfied: dill in /usr/local/lib/python3.7/dist-packages (from camel-tools) (0.3.5.1)\n",
      "Requirement already satisfied: typing-extensions in /usr/local/lib/python3.7/dist-packages (from torch>=1.3->camel-tools) (4.1.1)\n",
      "Requirement already satisfied: packaging>=20.0 in /usr/local/lib/python3.7/dist-packages (from transformers>=3.0.2->camel-tools) (21.3)\n",
      "Requirement already satisfied: importlib-metadata in /usr/local/lib/python3.7/dist-packages (from transformers>=3.0.2->camel-tools) (4.12.0)\n",
      "Requirement already satisfied: filelock in /usr/local/lib/python3.7/dist-packages (from transformers>=3.0.2->camel-tools) (3.8.0)\n",
      "Requirement already satisfied: pyyaml>=5.1 in /usr/local/lib/python3.7/dist-packages (from transformers>=3.0.2->camel-tools) (6.0)\n",
      "Requirement already satisfied: huggingface-hub<1.0,>=0.1.0 in /usr/local/lib/python3.7/dist-packages (from transformers>=3.0.2->camel-tools) (0.9.1)\n",
      "Requirement already satisfied: tokenizers!=0.11.3,<0.13,>=0.11.1 in /usr/local/lib/python3.7/dist-packages (from transformers>=3.0.2->camel-tools) (0.12.1)\n",
      "Requirement already satisfied: regex!=2019.12.17 in /usr/local/lib/python3.7/dist-packages (from transformers>=3.0.2->camel-tools) (2022.6.2)\n",
      "Requirement already satisfied: pyparsing!=3.0.5,>=2.0.2 in /usr/local/lib/python3.7/dist-packages (from packaging>=20.0->transformers>=3.0.2->camel-tools) (3.0.9)\n",
      "Requirement already satisfied: zipp>=0.5 in /usr/local/lib/python3.7/dist-packages (from importlib-metadata->transformers>=3.0.2->camel-tools) (3.8.1)\n",
      "Requirement already satisfied: pytz>=2017.3 in /usr/local/lib/python3.7/dist-packages (from pandas->camel-tools) (2022.2.1)\n",
      "Requirement already satisfied: python-dateutil>=2.7.3 in /usr/local/lib/python3.7/dist-packages (from pandas->camel-tools) (2.8.2)\n",
      "Requirement already satisfied: urllib3!=1.25.0,!=1.25.1,<1.26,>=1.21.1 in /usr/local/lib/python3.7/dist-packages (from requests->camel-tools) (1.24.3)\n",
      "Requirement already satisfied: chardet<4,>=3.0.2 in /usr/local/lib/python3.7/dist-packages (from requests->camel-tools) (3.0.4)\n",
      "Requirement already satisfied: certifi>=2017.4.17 in /usr/local/lib/python3.7/dist-packages (from requests->camel-tools) (2022.6.15)\n",
      "Requirement already satisfied: idna<3,>=2.5 in /usr/local/lib/python3.7/dist-packages (from requests->camel-tools) (2.10)\n",
      "Requirement already satisfied: joblib>=0.11 in /usr/local/lib/python3.7/dist-packages (from scikit-learn->camel-tools) (1.1.0)\n",
      "Requirement already satisfied: threadpoolctl>=2.0.0 in /usr/local/lib/python3.7/dist-packages (from scikit-learn->camel-tools) (3.1.0)\n",
      "Building wheels for collected packages: camel-kenlm, docopt, emoji\n",
      "  Building wheel for camel-kenlm (setup.py) ... \u001b[?25l\u001b[?25hdone\n",
      "  Created wheel for camel-kenlm: filename=camel_kenlm-2021.12.27-cp37-cp37m-linux_x86_64.whl size=2336408 sha256=a0f6ae041273819b32826afce477648e2e75f0e3bd4356e11f84d7aac3fdae2b\n",
      "  Stored in directory: /root/.cache/pip/wheels/db/72/74/982f8c435f15b7feaf6dc8a03e212ff34e93f1f2d747059332\n",
      "  Building wheel for docopt (setup.py) ... \u001b[?25l\u001b[?25hdone\n",
      "  Created wheel for docopt: filename=docopt-0.6.2-py2.py3-none-any.whl size=13723 sha256=7c9cf9d9f1278c864de0950104b819a20255a1bdc84a2cf879c1cc94de9f737e\n",
      "  Stored in directory: /root/.cache/pip/wheels/72/b0/3f/1d95f96ff986c7dfffe46ce2be4062f38ebd04b506c77c81b9\n",
      "  Building wheel for emoji (setup.py) ... \u001b[?25l\u001b[?25hdone\n",
      "  Created wheel for emoji: filename=emoji-2.0.0-py3-none-any.whl size=193022 sha256=9bcb91001968a3943326cac05698a437fb1b6febdadb1b21feef7c9cc59f74be\n",
      "  Stored in directory: /root/.cache/pip/wheels/ec/29/4d/3cfe7452ac7d8d83b1930f8a6205c3c9649b24e80f9029fc38\n",
      "Successfully built camel-kenlm docopt emoji\n",
      "Installing collected packages: emoji, docopt, camel-kenlm, camel-tools\n",
      "Successfully installed camel-kenlm-2021.12.27 camel-tools-1.4.1 docopt-0.6.2 emoji-2.0.0\n"
     ]
    }
   ],
   "source": [
    "!pip install camel-tools"
   ]
  },
  {
   "cell_type": "markdown",
   "metadata": {
    "id": "R5G6Ak_x15NI"
   },
   "source": [
    "## **Data preprocessing**"
   ]
  },
  {
   "cell_type": "code",
   "execution_count": null,
   "metadata": {
    "id": "5zOHQlIi3a8s"
   },
   "outputs": [],
   "source": [
    "import pandas as pd\n",
    "import numpy as np\n",
    "from transformers import pipeline"
   ]
  },
  {
   "cell_type": "code",
   "execution_count": null,
   "metadata": {
    "colab": {
     "base_uri": "https://localhost:8080/",
     "height": 261
    },
    "id": "P5QxHUpy4CmC",
    "outputId": "8cfe0497-025d-4e11-a796-dddd344584a7"
   },
   "outputs": [
    {
     "name": "stderr",
     "output_type": "stream",
     "text": [
      "/usr/local/lib/python3.7/dist-packages/pandas/util/_decorators.py:311: ParserWarning: Falling back to the 'python' engine because the 'c' engine does not support regex separators (separators > 1 char and different from '\\s+' are interpreted as regex); you can avoid this warning by specifying engine='python'.\n",
      "  return func(*args, **kwargs)\n"
     ]
    },
    {
     "data": {
      "text/html": [
       "\n",
       "  <div id=\"df-20f90cde-9be7-405a-8147-1682cd3d9940\">\n",
       "    <div class=\"colab-df-container\">\n",
       "      <div>\n",
       "<style scoped>\n",
       "    .dataframe tbody tr th:only-of-type {\n",
       "        vertical-align: middle;\n",
       "    }\n",
       "\n",
       "    .dataframe tbody tr th {\n",
       "        vertical-align: top;\n",
       "    }\n",
       "\n",
       "    .dataframe thead th {\n",
       "        text-align: right;\n",
       "    }\n",
       "</style>\n",
       "<table border=\"1\" class=\"dataframe\">\n",
       "  <thead>\n",
       "    <tr style=\"text-align: right;\">\n",
       "      <th></th>\n",
       "      <th>text</th>\n",
       "      <th>Class</th>\n",
       "    </tr>\n",
       "  </thead>\n",
       "  <tbody>\n",
       "    <tr>\n",
       "      <th>0</th>\n",
       "      <td>ما عندكش صرف كتر من هادا</td>\n",
       "      <td>RAB</td>\n",
       "    </tr>\n",
       "    <tr>\n",
       "      <th>1</th>\n",
       "      <td>لأ . شارع واحد من هون</td>\n",
       "      <td>BEI</td>\n",
       "    </tr>\n",
       "    <tr>\n",
       "      <th>2</th>\n",
       "      <td>هي شنطة زرقة</td>\n",
       "      <td>DOH</td>\n",
       "    </tr>\n",
       "    <tr>\n",
       "      <th>3</th>\n",
       "      <td>ابغي ام الربيان نية</td>\n",
       "      <td>DOH</td>\n",
       "    </tr>\n",
       "    <tr>\n",
       "      <th>4</th>\n",
       "      <td>يكلفني كام لسياتل</td>\n",
       "      <td>CAI</td>\n",
       "    </tr>\n",
       "  </tbody>\n",
       "</table>\n",
       "</div>\n",
       "      <button class=\"colab-df-convert\" onclick=\"convertToInteractive('df-20f90cde-9be7-405a-8147-1682cd3d9940')\"\n",
       "              title=\"Convert this dataframe to an interactive table.\"\n",
       "              style=\"display:none;\">\n",
       "        \n",
       "  <svg xmlns=\"http://www.w3.org/2000/svg\" height=\"24px\"viewBox=\"0 0 24 24\"\n",
       "       width=\"24px\">\n",
       "    <path d=\"M0 0h24v24H0V0z\" fill=\"none\"/>\n",
       "    <path d=\"M18.56 5.44l.94 2.06.94-2.06 2.06-.94-2.06-.94-.94-2.06-.94 2.06-2.06.94zm-11 1L8.5 8.5l.94-2.06 2.06-.94-2.06-.94L8.5 2.5l-.94 2.06-2.06.94zm10 10l.94 2.06.94-2.06 2.06-.94-2.06-.94-.94-2.06-.94 2.06-2.06.94z\"/><path d=\"M17.41 7.96l-1.37-1.37c-.4-.4-.92-.59-1.43-.59-.52 0-1.04.2-1.43.59L10.3 9.45l-7.72 7.72c-.78.78-.78 2.05 0 2.83L4 21.41c.39.39.9.59 1.41.59.51 0 1.02-.2 1.41-.59l7.78-7.78 2.81-2.81c.8-.78.8-2.07 0-2.86zM5.41 20L4 18.59l7.72-7.72 1.47 1.35L5.41 20z\"/>\n",
       "  </svg>\n",
       "      </button>\n",
       "      \n",
       "  <style>\n",
       "    .colab-df-container {\n",
       "      display:flex;\n",
       "      flex-wrap:wrap;\n",
       "      gap: 12px;\n",
       "    }\n",
       "\n",
       "    .colab-df-convert {\n",
       "      background-color: #E8F0FE;\n",
       "      border: none;\n",
       "      border-radius: 50%;\n",
       "      cursor: pointer;\n",
       "      display: none;\n",
       "      fill: #1967D2;\n",
       "      height: 32px;\n",
       "      padding: 0 0 0 0;\n",
       "      width: 32px;\n",
       "    }\n",
       "\n",
       "    .colab-df-convert:hover {\n",
       "      background-color: #E2EBFA;\n",
       "      box-shadow: 0px 1px 2px rgba(60, 64, 67, 0.3), 0px 1px 3px 1px rgba(60, 64, 67, 0.15);\n",
       "      fill: #174EA6;\n",
       "    }\n",
       "\n",
       "    [theme=dark] .colab-df-convert {\n",
       "      background-color: #3B4455;\n",
       "      fill: #D2E3FC;\n",
       "    }\n",
       "\n",
       "    [theme=dark] .colab-df-convert:hover {\n",
       "      background-color: #434B5C;\n",
       "      box-shadow: 0px 1px 3px 1px rgba(0, 0, 0, 0.15);\n",
       "      filter: drop-shadow(0px 1px 2px rgba(0, 0, 0, 0.3));\n",
       "      fill: #FFFFFF;\n",
       "    }\n",
       "  </style>\n",
       "\n",
       "      <script>\n",
       "        const buttonEl =\n",
       "          document.querySelector('#df-20f90cde-9be7-405a-8147-1682cd3d9940 button.colab-df-convert');\n",
       "        buttonEl.style.display =\n",
       "          google.colab.kernel.accessAllowed ? 'block' : 'none';\n",
       "\n",
       "        async function convertToInteractive(key) {\n",
       "          const element = document.querySelector('#df-20f90cde-9be7-405a-8147-1682cd3d9940');\n",
       "          const dataTable =\n",
       "            await google.colab.kernel.invokeFunction('convertToInteractive',\n",
       "                                                     [key], {});\n",
       "          if (!dataTable) return;\n",
       "\n",
       "          const docLinkHtml = 'Like what you see? Visit the ' +\n",
       "            '<a target=\"_blank\" href=https://colab.research.google.com/notebooks/data_table.ipynb>data table notebook</a>'\n",
       "            + ' to learn more about interactive tables.';\n",
       "          element.innerHTML = '';\n",
       "          dataTable['output_type'] = 'display_data';\n",
       "          await google.colab.output.renderOutput(dataTable, element);\n",
       "          const docLink = document.createElement('div');\n",
       "          docLink.innerHTML = docLinkHtml;\n",
       "          element.appendChild(docLink);\n",
       "        }\n",
       "      </script>\n",
       "    </div>\n",
       "  </div>\n",
       "  "
      ],
      "text/plain": [
       "                        text Class\n",
       "0  ما عندكش صرف كتر من هادا    RAB\n",
       "1     لأ . شارع واحد من هون    BEI\n",
       "2              هي شنطة زرقة    DOH\n",
       "3       ابغي ام الربيان نية    DOH\n",
       "4         يكلفني كام لسياتل    CAI"
      ]
     },
     "execution_count": 2,
     "metadata": {},
     "output_type": "execute_result"
    }
   ],
   "source": [
    "train = pd.read_csv('/content/MADAR-Corpus-6-dev.tsv',sep='.\\t', encoding ='utf-8-sig')\n",
    "train.columns = [\"text\",\"Class\"]        \n",
    "train.head()"
   ]
  },
  {
   "cell_type": "code",
   "execution_count": null,
   "metadata": {
    "colab": {
     "base_uri": "https://localhost:8080/"
    },
    "id": "60ZKKg5D5SNl",
    "outputId": "a4a2ea36-68a1-4c1b-abd0-a92e817f0203"
   },
   "outputs": [
    {
     "data": {
      "text/plain": [
       "BEI    1000\n",
       "DOH    1000\n",
       "CAI    1000\n",
       "TUN    1000\n",
       "MSA    1000\n",
       "RAB     999\n",
       "Name: Class, dtype: int64"
      ]
     },
     "execution_count": 3,
     "metadata": {},
     "output_type": "execute_result"
    }
   ],
   "source": [
    "# checking for imbalance\n",
    "train.Class.value_counts()"
   ]
  },
  {
   "cell_type": "code",
   "execution_count": null,
   "metadata": {
    "colab": {
     "base_uri": "https://localhost:8080/"
    },
    "id": "ZwarV-jS6Faq",
    "outputId": "3d495283-2877-4b18-91a0-0cd82d6dd934"
   },
   "outputs": [
    {
     "name": "stderr",
     "output_type": "stream",
     "text": [
      "[nltk_data] Downloading package stopwords to /root/nltk_data...\n",
      "[nltk_data]   Unzipping corpora/stopwords.zip.\n"
     ]
    }
   ],
   "source": [
    "import nltk\n",
    "nltk.download(\"stopwords\")\n",
    "# arabic stopwords\n",
    "arb_stopwords = set(nltk.corpus.stopwords.words(\"arabic\"))"
   ]
  },
  {
   "cell_type": "code",
   "execution_count": null,
   "metadata": {
    "colab": {
     "base_uri": "https://localhost:8080/"
    },
    "id": "jNUkZqUUCLtl",
    "outputId": "b01f8967-05a8-4dfb-b41d-036fd8df81b6"
   },
   "outputs": [
    {
     "name": "stderr",
     "output_type": "stream",
     "text": [
      "[nltk_data] Downloading package wordnet to /root/nltk_data...\n",
      "[nltk_data] Downloading package omw-1.4 to /root/nltk_data...\n"
     ]
    }
   ],
   "source": [
    "from textblob import TextBlob, Word\n",
    "import nltk\n",
    "nltk.download('wordnet')\n",
    "nltk.download('omw-1.4')\n",
    "from camel_tools.tokenizers.word import simple_word_tokenize\n",
    "import re, string\n",
    "\n",
    "# Pre - processing \n",
    "\n",
    "def clean_text(text):\n",
    "    # lowercasing\n",
    "    text = text.lower() \n",
    "    text = text.strip()  \n",
    "    # removing xml chars, punctuations, numbers etc.\n",
    "    text = re.compile('<.*?>').sub('', text)   \n",
    "    text = re.compile('[%s]' % re.escape(string.punctuation)).sub(' ', text)  \n",
    "    text = re.sub('\\s+', ' ', text)  \n",
    "    text = re.sub(r'\\[[0-9]*\\]',' ',text) \n",
    "    text = re.sub(r'[^\\w\\s]', '', str(text).lower().strip())\n",
    "    text = re.sub(r'\\d',' ',text) \n",
    "    text = re.sub(r'\\s+',' ',text)\n",
    "  # Removed @ mentions \n",
    "    text = re.sub(r'@[A-Za-z0-9]+', '', text)\n",
    "  # Removed hashtags\n",
    "    text = re.sub(r'#', '', text)\n",
    "  # Removed RT\n",
    "    text = re.sub(r'RT[\\s]+', '', text)\n",
    "  # Removed hyperlinks\n",
    "    text = re.sub(r'https?:\\/\\/\\S+', '', text)\n",
    "    return text\n",
    "\n",
    "def remove_emoji(text):\n",
    "    emoji_pattern = re.compile(\"[\"\n",
    "                           u\"\\U0001F600-\\U0001F64F\"  # emoticons\n",
    "                           u\"\\U0001F300-\\U0001F5FF\"  # symbols & pictographs\n",
    "                           u\"\\U0001F680-\\U0001F6FF\"  # transport & map symbols\n",
    "                           u\"\\U0001F1E0-\\U0001F1FF\"  # flags (iOS)\n",
    "                           u\"\\U00002702-\\U000027B0\"\n",
    "                           u\"\\U000024C2-\\U0001F251\"\n",
    "                           \"]+\", flags=re.UNICODE)\n",
    "    return emoji_pattern.sub(r'', text)\n",
    "\n",
    "def tokenization(text):\n",
    "  filtered_sentence = [] \n",
    "  # simple_word_tokenizer from camel tools is used\n",
    "  word_tokens = simple_word_tokenize(text) \n",
    "  filtered_sentence = [w for w in word_tokens if not w in arb_stopwords] \n",
    "  return filtered_sentence\n",
    "\n",
    "# Lemmetize - transform words to its base form\n",
    "def lemmetize(text):\n",
    "    inp_text = TextBlob(text)\n",
    "    text = Word.lemmatize(inp_text)\n",
    "    return text"
   ]
  },
  {
   "cell_type": "code",
   "execution_count": null,
   "metadata": {
    "id": "9JSRZTz9DXHO"
   },
   "outputs": [],
   "source": [
    "# cleaning text\n",
    "train['text_clean'] = train['text'].apply(clean_text)\n",
    "# Remove emojis\n",
    "train['text_clean'] = train['text_clean'].apply(remove_emoji)\n",
    "# tokenization and stopwords removal\n",
    "train['text_clean'] = train['text_clean'].apply(tokenization)\n",
    "# Regenerating text\n",
    "train['text_clean'] = train['text_clean'].apply(lambda x:' '.join([i+' ' for i in x]))\n",
    "# Removing double spaces\n",
    "train['text_clean'] = train['text_clean'].apply(lambda x:re.sub(r'\\s+', ' ', x, flags=re.I))\n",
    "# train.head()\n",
    "# lemmetize the text\n",
    "train['text_clean'] = train['text_clean'].apply(lemmetize)\n"
   ]
  },
  {
   "cell_type": "markdown",
   "metadata": {
    "id": "S-nVwHaB0v6L"
   },
   "source": []
  },
  {
   "cell_type": "code",
   "execution_count": null,
   "metadata": {
    "colab": {
     "base_uri": "https://localhost:8080/",
     "height": 206
    },
    "id": "ZbvshUQVDsPi",
    "outputId": "4061939b-5438-4472-fdb0-e2a31653ccdf"
   },
   "outputs": [
    {
     "data": {
      "text/html": [
       "\n",
       "  <div id=\"df-d73e30e0-46d3-43bc-8b65-79a657ff9d28\">\n",
       "    <div class=\"colab-df-container\">\n",
       "      <div>\n",
       "<style scoped>\n",
       "    .dataframe tbody tr th:only-of-type {\n",
       "        vertical-align: middle;\n",
       "    }\n",
       "\n",
       "    .dataframe tbody tr th {\n",
       "        vertical-align: top;\n",
       "    }\n",
       "\n",
       "    .dataframe thead th {\n",
       "        text-align: right;\n",
       "    }\n",
       "</style>\n",
       "<table border=\"1\" class=\"dataframe\">\n",
       "  <thead>\n",
       "    <tr style=\"text-align: right;\">\n",
       "      <th></th>\n",
       "      <th>text</th>\n",
       "      <th>Class</th>\n",
       "      <th>text_clean</th>\n",
       "    </tr>\n",
       "  </thead>\n",
       "  <tbody>\n",
       "    <tr>\n",
       "      <th>0</th>\n",
       "      <td>ما عندكش صرف كتر من هادا</td>\n",
       "      <td>RAB</td>\n",
       "      <td>عندكش صرف كتر هادا</td>\n",
       "    </tr>\n",
       "    <tr>\n",
       "      <th>1</th>\n",
       "      <td>لأ . شارع واحد من هون</td>\n",
       "      <td>BEI</td>\n",
       "      <td>لأ شارع هون</td>\n",
       "    </tr>\n",
       "    <tr>\n",
       "      <th>2</th>\n",
       "      <td>هي شنطة زرقة</td>\n",
       "      <td>DOH</td>\n",
       "      <td>شنطة زرقة</td>\n",
       "    </tr>\n",
       "    <tr>\n",
       "      <th>3</th>\n",
       "      <td>ابغي ام الربيان نية</td>\n",
       "      <td>DOH</td>\n",
       "      <td>ابغي ام الربيان نية</td>\n",
       "    </tr>\n",
       "    <tr>\n",
       "      <th>4</th>\n",
       "      <td>يكلفني كام لسياتل</td>\n",
       "      <td>CAI</td>\n",
       "      <td>يكلفني كام لسياتل</td>\n",
       "    </tr>\n",
       "  </tbody>\n",
       "</table>\n",
       "</div>\n",
       "      <button class=\"colab-df-convert\" onclick=\"convertToInteractive('df-d73e30e0-46d3-43bc-8b65-79a657ff9d28')\"\n",
       "              title=\"Convert this dataframe to an interactive table.\"\n",
       "              style=\"display:none;\">\n",
       "        \n",
       "  <svg xmlns=\"http://www.w3.org/2000/svg\" height=\"24px\"viewBox=\"0 0 24 24\"\n",
       "       width=\"24px\">\n",
       "    <path d=\"M0 0h24v24H0V0z\" fill=\"none\"/>\n",
       "    <path d=\"M18.56 5.44l.94 2.06.94-2.06 2.06-.94-2.06-.94-.94-2.06-.94 2.06-2.06.94zm-11 1L8.5 8.5l.94-2.06 2.06-.94-2.06-.94L8.5 2.5l-.94 2.06-2.06.94zm10 10l.94 2.06.94-2.06 2.06-.94-2.06-.94-.94-2.06-.94 2.06-2.06.94z\"/><path d=\"M17.41 7.96l-1.37-1.37c-.4-.4-.92-.59-1.43-.59-.52 0-1.04.2-1.43.59L10.3 9.45l-7.72 7.72c-.78.78-.78 2.05 0 2.83L4 21.41c.39.39.9.59 1.41.59.51 0 1.02-.2 1.41-.59l7.78-7.78 2.81-2.81c.8-.78.8-2.07 0-2.86zM5.41 20L4 18.59l7.72-7.72 1.47 1.35L5.41 20z\"/>\n",
       "  </svg>\n",
       "      </button>\n",
       "      \n",
       "  <style>\n",
       "    .colab-df-container {\n",
       "      display:flex;\n",
       "      flex-wrap:wrap;\n",
       "      gap: 12px;\n",
       "    }\n",
       "\n",
       "    .colab-df-convert {\n",
       "      background-color: #E8F0FE;\n",
       "      border: none;\n",
       "      border-radius: 50%;\n",
       "      cursor: pointer;\n",
       "      display: none;\n",
       "      fill: #1967D2;\n",
       "      height: 32px;\n",
       "      padding: 0 0 0 0;\n",
       "      width: 32px;\n",
       "    }\n",
       "\n",
       "    .colab-df-convert:hover {\n",
       "      background-color: #E2EBFA;\n",
       "      box-shadow: 0px 1px 2px rgba(60, 64, 67, 0.3), 0px 1px 3px 1px rgba(60, 64, 67, 0.15);\n",
       "      fill: #174EA6;\n",
       "    }\n",
       "\n",
       "    [theme=dark] .colab-df-convert {\n",
       "      background-color: #3B4455;\n",
       "      fill: #D2E3FC;\n",
       "    }\n",
       "\n",
       "    [theme=dark] .colab-df-convert:hover {\n",
       "      background-color: #434B5C;\n",
       "      box-shadow: 0px 1px 3px 1px rgba(0, 0, 0, 0.15);\n",
       "      filter: drop-shadow(0px 1px 2px rgba(0, 0, 0, 0.3));\n",
       "      fill: #FFFFFF;\n",
       "    }\n",
       "  </style>\n",
       "\n",
       "      <script>\n",
       "        const buttonEl =\n",
       "          document.querySelector('#df-d73e30e0-46d3-43bc-8b65-79a657ff9d28 button.colab-df-convert');\n",
       "        buttonEl.style.display =\n",
       "          google.colab.kernel.accessAllowed ? 'block' : 'none';\n",
       "\n",
       "        async function convertToInteractive(key) {\n",
       "          const element = document.querySelector('#df-d73e30e0-46d3-43bc-8b65-79a657ff9d28');\n",
       "          const dataTable =\n",
       "            await google.colab.kernel.invokeFunction('convertToInteractive',\n",
       "                                                     [key], {});\n",
       "          if (!dataTable) return;\n",
       "\n",
       "          const docLinkHtml = 'Like what you see? Visit the ' +\n",
       "            '<a target=\"_blank\" href=https://colab.research.google.com/notebooks/data_table.ipynb>data table notebook</a>'\n",
       "            + ' to learn more about interactive tables.';\n",
       "          element.innerHTML = '';\n",
       "          dataTable['output_type'] = 'display_data';\n",
       "          await google.colab.output.renderOutput(dataTable, element);\n",
       "          const docLink = document.createElement('div');\n",
       "          docLink.innerHTML = docLinkHtml;\n",
       "          element.appendChild(docLink);\n",
       "        }\n",
       "      </script>\n",
       "    </div>\n",
       "  </div>\n",
       "  "
      ],
      "text/plain": [
       "                        text Class            text_clean\n",
       "0  ما عندكش صرف كتر من هادا    RAB   عندكش صرف كتر هادا \n",
       "1     لأ . شارع واحد من هون    BEI          لأ شارع هون \n",
       "2              هي شنطة زرقة    DOH            شنطة زرقة \n",
       "3       ابغي ام الربيان نية    DOH  ابغي ام الربيان نية \n",
       "4         يكلفني كام لسياتل    CAI    يكلفني كام لسياتل "
      ]
     },
     "execution_count": 10,
     "metadata": {},
     "output_type": "execute_result"
    }
   ],
   "source": [
    "train.head()"
   ]
  },
  {
   "cell_type": "markdown",
   "metadata": {
    "id": "0_Wp3ZE73U4W"
   },
   "source": [
    "# **System implementation**"
   ]
  },
  {
   "cell_type": "markdown",
   "metadata": {
    "id": "czwRvkWB3cue"
   },
   "source": [
    "## **1 Feature-Based Classification for Dialectal Arabic**\n",
    "\n",
    "\n",
    "*   Word-gram features with uni-gram, bi-gram and tri-gram\n",
    "\n",
    "\n",
    "\n",
    "\n",
    "\n"
   ]
  },
  {
   "cell_type": "code",
   "execution_count": null,
   "metadata": {
    "id": "VsZKy7fOHdJX"
   },
   "outputs": [],
   "source": [
    "from sklearn.model_selection import train_test_split\n",
    "# Split data in train and test\n",
    "\n",
    "X_train, X_test, y_train, y_test = train_test_split(train['text_clean'], train['Class'], test_size=0.25, random_state=42)\n"
   ]
  },
  {
   "cell_type": "code",
   "execution_count": null,
   "metadata": {
    "colab": {
     "base_uri": "https://localhost:8080/"
    },
    "id": "GF0L8Np2IOnh",
    "outputId": "1f670608-fab9-4790-e76f-1adb55e65e6b"
   },
   "outputs": [
    {
     "name": "stderr",
     "output_type": "stream",
     "text": [
      "/usr/local/lib/python3.7/dist-packages/sklearn/feature_extraction/text.py:401: UserWarning: Your stop_words may be inconsistent with your preprocessing. Tokenizing the stop words generated tokens ['أفعل', 'أفعله', 'انفك', 'برح', 'سيما'] not in stop_words.\n",
      "  % sorted(inconsistent)\n"
     ]
    }
   ],
   "source": [
    "from sklearn.feature_extraction.text import TfidfVectorizer\n",
    "\n",
    "# Word-gram analyzer with n gram range from 1 - 3 \n",
    "tfidf =  TfidfVectorizer(analyzer = 'word', tokenizer = simple_word_tokenize, ngram_range=(1, 3), stop_words=arb_stopwords) \n",
    "\n",
    "X_train_v = tfidf.fit_transform(X_train).toarray()\n",
    "X_test_v = tfidf.transform(X_test).toarray()"
   ]
  },
  {
   "cell_type": "code",
   "execution_count": null,
   "metadata": {
    "colab": {
     "base_uri": "https://localhost:8080/"
    },
    "id": "MpjAOJVsQY8i",
    "outputId": "d7e29cb9-fc20-43a8-fef3-391c94e87f4b"
   },
   "outputs": [
    {
     "data": {
      "text/plain": [
       "(1500, 33969)"
      ]
     },
     "execution_count": 10,
     "metadata": {},
     "output_type": "execute_result"
    }
   ],
   "source": [
    "X_test_v.shape"
   ]
  },
  {
   "cell_type": "code",
   "execution_count": null,
   "metadata": {
    "colab": {
     "base_uri": "https://localhost:8080/"
    },
    "id": "2iSQnKBKQdPS",
    "outputId": "07ab4958-6efe-48cb-8ad0-034659e0ad3b"
   },
   "outputs": [
    {
     "data": {
      "text/plain": [
       "(4499,)"
      ]
     },
     "execution_count": 11,
     "metadata": {},
     "output_type": "execute_result"
    }
   ],
   "source": [
    "y_train.shape"
   ]
  },
  {
   "cell_type": "code",
   "execution_count": null,
   "metadata": {
    "colab": {
     "base_uri": "https://localhost:8080/"
    },
    "id": "4K9RIAyMI_qn",
    "outputId": "e4b50b26-fdc9-4f52-91a0-ea9ba0643943"
   },
   "outputs": [
    {
     "name": "stdout",
     "output_type": "stream",
     "text": [
      "LogisticRegression()\n",
      "[[151  25  13  32  11  13]\n",
      " [  7 165  29  33   3  14]\n",
      " [ 22  19 180  26   6   7]\n",
      " [  6   4  10 212   5  10]\n",
      " [  5  16  12  19 200  15]\n",
      " [  6   2  12  11   8 191]]\n",
      "              precision    recall  f1-score   support\n",
      "\n",
      "         BEI       0.77      0.62      0.68       245\n",
      "         CAI       0.71      0.66      0.68       251\n",
      "         DOH       0.70      0.69      0.70       260\n",
      "         MSA       0.64      0.86      0.73       247\n",
      "         RAB       0.86      0.75      0.80       267\n",
      "         TUN       0.76      0.83      0.80       230\n",
      "\n",
      "    accuracy                           0.73      1500\n",
      "   macro avg       0.74      0.73      0.73      1500\n",
      "weighted avg       0.74      0.73      0.73      1500\n",
      "\n",
      "Test Accuracy: 0.7326666666666667\n",
      "RandomForestClassifier()\n",
      "[[141  13  12  13  51  15]\n",
      " [  8 150  32  21  29  11]\n",
      " [ 11  20 173  14  32  10]\n",
      " [  8   2  13 163  57   4]\n",
      " [  5  13  16   6 213  14]\n",
      " [  3   4  12   4  30 177]]\n",
      "              precision    recall  f1-score   support\n",
      "\n",
      "         BEI       0.80      0.58      0.67       245\n",
      "         CAI       0.74      0.60      0.66       251\n",
      "         DOH       0.67      0.67      0.67       260\n",
      "         MSA       0.74      0.66      0.70       247\n",
      "         RAB       0.52      0.80      0.63       267\n",
      "         TUN       0.77      0.77      0.77       230\n",
      "\n",
      "    accuracy                           0.68      1500\n",
      "   macro avg       0.71      0.68      0.68      1500\n",
      "weighted avg       0.70      0.68      0.68      1500\n",
      "\n",
      "Test Accuracy: 0.678\n",
      "GaussianNB()\n",
      "[[115  33  58  13   8  18]\n",
      " [ 36 115  52  20  15  13]\n",
      " [ 42  30 143  26  12   7]\n",
      " [ 13  23  63 132   8   8]\n",
      " [ 11  12  25  13 181  25]\n",
      " [ 11   7  30   6  12 164]]\n",
      "              precision    recall  f1-score   support\n",
      "\n",
      "         BEI       0.50      0.47      0.49       245\n",
      "         CAI       0.52      0.46      0.49       251\n",
      "         DOH       0.39      0.55      0.45       260\n",
      "         MSA       0.63      0.53      0.58       247\n",
      "         RAB       0.77      0.68      0.72       267\n",
      "         TUN       0.70      0.71      0.71       230\n",
      "\n",
      "    accuracy                           0.57      1500\n",
      "   macro avg       0.58      0.57      0.57      1500\n",
      "weighted avg       0.58      0.57      0.57      1500\n",
      "\n",
      "Test Accuracy: 0.5666666666666667\n",
      "LinearSVC()\n",
      "[[153  28  17  24  11  12]\n",
      " [  9 168  30  26   6  12]\n",
      " [ 20  22 182  21   8   7]\n",
      " [  6   7  20 201   8   5]\n",
      " [  6  15  13  14 205  14]\n",
      " [  4   3  14   8   9 192]]\n",
      "              precision    recall  f1-score   support\n",
      "\n",
      "         BEI       0.77      0.62      0.69       245\n",
      "         CAI       0.69      0.67      0.68       251\n",
      "         DOH       0.66      0.70      0.68       260\n",
      "         MSA       0.68      0.81      0.74       247\n",
      "         RAB       0.83      0.77      0.80       267\n",
      "         TUN       0.79      0.83      0.81       230\n",
      "\n",
      "    accuracy                           0.73      1500\n",
      "   macro avg       0.74      0.74      0.73      1500\n",
      "weighted avg       0.74      0.73      0.73      1500\n",
      "\n",
      "Test Accuracy: 0.734\n"
     ]
    }
   ],
   "source": [
    "from sklearn.svm import LinearSVC\n",
    "from sklearn.naive_bayes import GaussianNB\n",
    "from sklearn.ensemble import RandomForestClassifier\n",
    "from sklearn.linear_model import LogisticRegression\n",
    "from sklearn.metrics import confusion_matrix, accuracy_score, classification_report\n",
    "\n",
    "\n",
    "# Model training and evaluation\n",
    "\n",
    "lr = LogisticRegression()\n",
    "\n",
    "rf = RandomForestClassifier()\n",
    "\n",
    "nb = GaussianNB()\n",
    "\n",
    "svc = LinearSVC()\n",
    "\n",
    "models = [lr , rf, nb, svc]\n",
    "\n",
    "for x in models:\n",
    "    x.fit(X_train_v, y_train)\n",
    "    predictions = x.predict(X_test_v)\n",
    "    print(str(x))\n",
    "    print(confusion_matrix(y_true = y_test, y_pred=predictions))\n",
    "    print(classification_report(y_true = y_test, y_pred=predictions))\n",
    "    print('Test Accuracy:',  x.score(X_test_v, y_test))"
   ]
  },
  {
   "cell_type": "markdown",
   "metadata": {
    "id": "yMNkmYgh4S3T"
   },
   "source": [
    "\n",
    "*   Character-gram features with/without word boundary consideration, from bi-gram and\n",
    "up to 5-gram.\n",
    "\n"
   ]
  },
  {
   "cell_type": "code",
   "execution_count": null,
   "metadata": {
    "id": "8Wg5kksZJDcq"
   },
   "outputs": [],
   "source": [
    "# char analyzer with word boundary and n gram range from 2 - 5 \n",
    "tfidf_2 =  TfidfVectorizer(analyzer = 'char', tokenizer = simple_word_tokenize, ngram_range=(2, 5), stop_words=arb_stopwords) \n",
    "\n",
    "# convert training data to bag of words\n",
    "X_train_v2 = tfidf_2.fit_transform(X_train).toarray()\n",
    "X_test_v2 = tfidf_2.transform(X_test).toarray()"
   ]
  },
  {
   "cell_type": "code",
   "execution_count": null,
   "metadata": {
    "colab": {
     "base_uri": "https://localhost:8080/"
    },
    "id": "yb755X-jLzya",
    "outputId": "60d480ff-d587-4119-87bd-d5e1d6e5c0ac"
   },
   "outputs": [
    {
     "name": "stdout",
     "output_type": "stream",
     "text": [
      "LogisticRegression()\n",
      "[[151  25  13  32  11  13]\n",
      " [  7 165  29  33   3  14]\n",
      " [ 22  19 180  26   6   7]\n",
      " [  6   4  10 212   5  10]\n",
      " [  5  16  12  19 200  15]\n",
      " [  6   2  12  11   8 191]]\n",
      "              precision    recall  f1-score   support\n",
      "\n",
      "         BEI       0.77      0.62      0.68       245\n",
      "         CAI       0.71      0.66      0.68       251\n",
      "         DOH       0.70      0.69      0.70       260\n",
      "         MSA       0.64      0.86      0.73       247\n",
      "         RAB       0.86      0.75      0.80       267\n",
      "         TUN       0.76      0.83      0.80       230\n",
      "\n",
      "    accuracy                           0.73      1500\n",
      "   macro avg       0.74      0.73      0.73      1500\n",
      "weighted avg       0.74      0.73      0.73      1500\n",
      "\n",
      "Test Accuracy: 0.7326666666666667\n",
      "RandomForestClassifier()\n",
      "[[145  15  15  10  48  12]\n",
      " [  6 156  34  21  24  10]\n",
      " [ 10  20 168  18  31  13]\n",
      " [  5   2  14 164  56   6]\n",
      " [  6  11  16   7 211  16]\n",
      " [  3   4  13   6  29 175]]\n",
      "              precision    recall  f1-score   support\n",
      "\n",
      "         BEI       0.83      0.59      0.69       245\n",
      "         CAI       0.75      0.62      0.68       251\n",
      "         DOH       0.65      0.65      0.65       260\n",
      "         MSA       0.73      0.66      0.69       247\n",
      "         RAB       0.53      0.79      0.63       267\n",
      "         TUN       0.75      0.76      0.76       230\n",
      "\n",
      "    accuracy                           0.68      1500\n",
      "   macro avg       0.71      0.68      0.68      1500\n",
      "weighted avg       0.70      0.68      0.68      1500\n",
      "\n",
      "Test Accuracy: 0.6793333333333333\n",
      "GaussianNB()\n",
      "[[115  33  58  13   8  18]\n",
      " [ 36 115  52  20  15  13]\n",
      " [ 42  30 143  26  12   7]\n",
      " [ 13  23  63 132   8   8]\n",
      " [ 11  12  25  13 181  25]\n",
      " [ 11   7  30   6  12 164]]\n",
      "              precision    recall  f1-score   support\n",
      "\n",
      "         BEI       0.50      0.47      0.49       245\n",
      "         CAI       0.52      0.46      0.49       251\n",
      "         DOH       0.39      0.55      0.45       260\n",
      "         MSA       0.63      0.53      0.58       247\n",
      "         RAB       0.77      0.68      0.72       267\n",
      "         TUN       0.70      0.71      0.71       230\n",
      "\n",
      "    accuracy                           0.57      1500\n",
      "   macro avg       0.58      0.57      0.57      1500\n",
      "weighted avg       0.58      0.57      0.57      1500\n",
      "\n",
      "Test Accuracy: 0.5666666666666667\n",
      "LinearSVC()\n",
      "[[153  28  17  24  11  12]\n",
      " [  9 168  30  26   6  12]\n",
      " [ 20  22 182  21   8   7]\n",
      " [  6   7  20 201   8   5]\n",
      " [  6  15  13  14 205  14]\n",
      " [  4   3  14   8   9 192]]\n",
      "              precision    recall  f1-score   support\n",
      "\n",
      "         BEI       0.77      0.62      0.69       245\n",
      "         CAI       0.69      0.67      0.68       251\n",
      "         DOH       0.66      0.70      0.68       260\n",
      "         MSA       0.68      0.81      0.74       247\n",
      "         RAB       0.83      0.77      0.80       267\n",
      "         TUN       0.79      0.83      0.81       230\n",
      "\n",
      "    accuracy                           0.73      1500\n",
      "   macro avg       0.74      0.74      0.73      1500\n",
      "weighted avg       0.74      0.73      0.73      1500\n",
      "\n",
      "Test Accuracy: 0.734\n"
     ]
    }
   ],
   "source": [
    "from sklearn.svm import LinearSVC\n",
    "from sklearn.naive_bayes import GaussianNB\n",
    "from sklearn.ensemble import RandomForestClassifier\n",
    "from sklearn.linear_model import LogisticRegression\n",
    "from sklearn.metrics import confusion_matrix, accuracy_score, classification_report\n",
    "\n",
    "# Model training and results\n",
    "lr = LogisticRegression()\n",
    "\n",
    "rf = RandomForestClassifier()\n",
    "\n",
    "nb = GaussianNB()\n",
    "\n",
    "svc = LinearSVC()\n",
    "\n",
    "models = [lr , rf, nb, svc]\n",
    "\n",
    "for x in models:\n",
    "    x.fit(X_train_v, y_train)\n",
    "    predictions = x.predict(X_test_v)\n",
    "    print(str(x))\n",
    "    print(confusion_matrix(y_true = y_test, y_pred=predictions))\n",
    "    print(classification_report(y_true = y_test, y_pred=predictions))\n",
    "    print('Test Accuracy:',  x.score(X_test_v, y_test))"
   ]
  },
  {
   "cell_type": "markdown",
   "metadata": {
    "id": "Hu2Btt2GXihJ"
   },
   "source": [
    "# **2- LSTM Deep Network**"
   ]
  },
  {
   "cell_type": "code",
   "execution_count": null,
   "metadata": {
    "colab": {
     "base_uri": "https://localhost:8080/"
    },
    "id": "si2049awL4Wv",
    "outputId": "51b3af52-cfd0-433f-fb19-4a7cc3569466"
   },
   "outputs": [
    {
     "name": "stdout",
     "output_type": "stream",
     "text": [
      "Looking in indexes: https://pypi.org/simple, https://us-python.pkg.dev/colab-wheels/public/simple/\n",
      "Requirement already satisfied: gensim in /usr/local/lib/python3.7/dist-packages (3.6.0)\n",
      "Requirement already satisfied: nltk in /usr/local/lib/python3.7/dist-packages (3.7)\n",
      "Requirement already satisfied: smart-open>=1.2.1 in /usr/local/lib/python3.7/dist-packages (from gensim) (5.2.1)\n",
      "Requirement already satisfied: scipy>=0.18.1 in /usr/local/lib/python3.7/dist-packages (from gensim) (1.7.3)\n",
      "Requirement already satisfied: numpy>=1.11.3 in /usr/local/lib/python3.7/dist-packages (from gensim) (1.21.6)\n",
      "Requirement already satisfied: six>=1.5.0 in /usr/local/lib/python3.7/dist-packages (from gensim) (1.15.0)\n",
      "Requirement already satisfied: click in /usr/local/lib/python3.7/dist-packages (from nltk) (7.1.2)\n",
      "Requirement already satisfied: regex>=2021.8.3 in /usr/local/lib/python3.7/dist-packages (from nltk) (2022.6.2)\n",
      "Requirement already satisfied: tqdm in /usr/local/lib/python3.7/dist-packages (from nltk) (4.64.0)\n",
      "Requirement already satisfied: joblib in /usr/local/lib/python3.7/dist-packages (from nltk) (1.1.0)\n"
     ]
    }
   ],
   "source": [
    "!pip install gensim nltk"
   ]
  },
  {
   "cell_type": "code",
   "execution_count": null,
   "metadata": {
    "colab": {
     "base_uri": "https://localhost:8080/"
    },
    "id": "CXQ0zkUGuRm6",
    "outputId": "07552640-7bde-4c8d-c2a9-e63be95b113f"
   },
   "outputs": [
    {
     "name": "stdout",
     "output_type": "stream",
     "text": [
      "Archive:  /content/Twt-CBOW.zip\n",
      "  inflating: Twt-CBOW                \n",
      "  inflating: Twt-CBOW.syn1neg.npy    \n",
      "  inflating: Twt-CBOW.wv.syn0.npy    \n"
     ]
    }
   ],
   "source": [
    "# %cd /content\n",
    "# AraVec 1.0 Twittert-CBOW model\n",
    "# https://www.dropbox.com/s/ce9phmmawoe1ure/Twt-CBOW.zip?dl=0\n",
    "\n",
    "!unzip '/content/Twt-CBOW.zip'"
   ]
  },
  {
   "cell_type": "code",
   "execution_count": null,
   "metadata": {
    "id": "And4AEOdj7KL"
   },
   "outputs": [],
   "source": [
    "import gensim\n",
    "w2v = gensim.models.Word2Vec.load('/content/Twt-CBOW')"
   ]
  },
  {
   "cell_type": "code",
   "execution_count": null,
   "metadata": {
    "colab": {
     "base_uri": "https://localhost:8080/"
    },
    "id": "Ff289JJ5qawc",
    "outputId": "7cbd8c64-63b8-40c2-86c9-dfc2667c653b"
   },
   "outputs": [
    {
     "name": "stdout",
     "output_type": "stream",
     "text": [
      "(164077, 300)\n"
     ]
    }
   ],
   "source": [
    "# extracting weights\n",
    "weights_w2v = w2v.wv.vectors\n",
    "print(weights_w2v.shape)"
   ]
  },
  {
   "cell_type": "code",
   "execution_count": null,
   "metadata": {
    "id": "SS3rP6_Jqen8"
   },
   "outputs": [],
   "source": [
    "import tensorflow as tf\n",
    "from tensorflow.keras.models import Sequential\n",
    "from tensorflow.keras.layers import Dense\n",
    "from tensorflow.keras.layers import LSTM, Bidirectional\n",
    "from tensorflow.keras.layers import Embedding\n",
    "from tensorflow.keras.preprocessing import sequence\n",
    "from keras.preprocessing.sequence import pad_sequences\n"
   ]
  },
  {
   "cell_type": "code",
   "execution_count": null,
   "metadata": {
    "colab": {
     "base_uri": "https://localhost:8080/"
    },
    "id": "6EBq2pPH_97a",
    "outputId": "e11cd46d-2e85-4e86-e0e6-2b7ef7d47172"
   },
   "outputs": [
    {
     "name": "stdout",
     "output_type": "stream",
     "text": [
      "164077\n"
     ]
    }
   ],
   "source": [
    "MAX_NB_WORDS = len(w2v.wv.vocab)\n",
    "EMBEDDING_DIM = 300       \n",
    "print(len(w2v.wv.vocab))"
   ]
  },
  {
   "cell_type": "code",
   "execution_count": null,
   "metadata": {
    "colab": {
     "base_uri": "https://localhost:8080/"
    },
    "id": "uUSV9uTNG0Ar",
    "outputId": "1bc9b00e-c559-460c-ab34-371f3d8765b5"
   },
   "outputs": [
    {
     "name": "stdout",
     "output_type": "stream",
     "text": [
      "(5999, 200)\n",
      "(5999,)\n"
     ]
    }
   ],
   "source": [
    "# Preparing Data for LSTM model\n",
    "\n",
    "MAX_SEQUENCE_LENGTH = 200\n",
    "\n",
    "def w2token(word):\n",
    "    try:\n",
    "        return w2v.wv.vocab[word].index\n",
    "    except KeyError:\n",
    "        return 0\n",
    "\n",
    "class DataPrep:\n",
    "    def __init__(self, dataset, labels, seq_length):\n",
    "        self.dataset = dataset\n",
    "        self.labels = labels\n",
    "        self.translator = str.maketrans('', '', string.punctuation + '–')\n",
    "        self.categories, self.ccount = np.unique(labels, return_counts=True)\n",
    "        self.seq_length = seq_length\n",
    "        self.categories = np.setdiff1d(self.categories, [])\n",
    "        \n",
    "    def __iter__(self):\n",
    "        for text, cat in zip(self.dataset, self.labels):\n",
    "            text = text.translate(self.translator)\n",
    "            words = np.array([w2token(w) for w in text.split(' ')[:self.seq_length] if w != ''])           \n",
    "            yield (words, cat)\n",
    "\n",
    "# print(train['text_clean'][0])\n",
    "# print(np.unique(train['Class'], return_counts=True))\n",
    "sequences = DataPrep(train['text_clean'],train['Class'], MAX_SEQUENCE_LENGTH)\n",
    "\n",
    "# encoding\n",
    "cat_dict = {key: val for key, val in zip(sequences.categories, range(len(sequences.categories)))}\n",
    "\n",
    "x_set = []\n",
    "y_set = []\n",
    "for x, y in sequences:\n",
    "    x_set.append(x)\n",
    "    y_set.append(cat_dict[y])\n",
    "    \n",
    "# Padding sequences \n",
    "x_set = pad_sequences(x_set, maxlen=MAX_SEQUENCE_LENGTH, padding='pre', value=0)\n",
    "y_set = np.array(y_set)\n",
    "\n",
    "print(x_set.shape)\n",
    "print(y_set.shape)\n"
   ]
  },
  {
   "cell_type": "code",
   "execution_count": null,
   "metadata": {
    "colab": {
     "base_uri": "https://localhost:8080/"
    },
    "id": "1f6mLy4fTxJI",
    "outputId": "df28742d-e1f5-4413-9ee8-f2bf46fe2a1a"
   },
   "outputs": [
    {
     "name": "stdout",
     "output_type": "stream",
     "text": [
      "(4499, 200)\n",
      "(4499,)\n",
      "(1500, 200)\n",
      "(1500,)\n"
     ]
    }
   ],
   "source": [
    "from sklearn.model_selection import train_test_split\n",
    "\n",
    "X_train_LS, X_test_LS, y_train_LS, y_test_LS = train_test_split(x_set, y_set, test_size=0.25, random_state=42)\n",
    "print(X_train_LS.shape)\n",
    "print(y_train_LS.shape)\n",
    "print(X_test_LS.shape)\n",
    "print(y_test_LS.shape)"
   ]
  },
  {
   "cell_type": "code",
   "execution_count": null,
   "metadata": {
    "id": "AMKaoAvnYXoi"
   },
   "outputs": [],
   "source": [
    "import matplotlib.pyplot as plt\n",
    "# plot function\n",
    "def Plots(History):\n",
    "  plt.style.use(\"ggplot\")\n",
    "  plt.figure()\n",
    "  plt.title('Loss ')\n",
    "  plt.plot(History[\"loss\"], label=\"Train Loss\")\n",
    "  plt.plot( History[\"val_loss\"] ,label = \"val Loss\")\n",
    "  plt.ylabel('Loss function')\n",
    "  plt.xlabel('Epochs')\n",
    "  plt.legend()\n",
    "  print(\"\\n\")\n",
    "  plt.figure()\n",
    "  plt.title('Accuracy')\n",
    "  plt.plot( History[\"accuracy\"] ,label = \"Train Accuracy\")\n",
    "  plt.plot( History[\"val_accuracy\"] ,label = \"Val Accuracy\")\n",
    "  plt.ylabel('Accuracy')\n",
    "  plt.xlabel('Iterations')\n",
    "  plt.legend()\n",
    "\n",
    "  # plt.style.use(\"ggplot\")\n",
    "  plt.figure()\n",
    "  plt.title('Loss and accuracy')\n",
    "  plt.plot(History['loss'], label=\"Train Loss\")\n",
    "  plt.plot(History['val_loss'] ,label = \"val Loss\")\n",
    "  plt.plot(History['accuracy'] ,label = \"Train Accuracy\")\n",
    "  plt.plot(History['val_accuracy'] ,label = \"Val Accuracy\")\n",
    "  plt.xlabel('Epochs')\n",
    "  plt.legend()\n",
    "\n"
   ]
  },
  {
   "cell_type": "code",
   "execution_count": null,
   "metadata": {
    "colab": {
     "base_uri": "https://localhost:8080/"
    },
    "id": "9siZmLGoGZSw",
    "outputId": "f06520b9-ef9e-4acd-cc35-254d5b23d58b"
   },
   "outputs": [
    {
     "name": "stdout",
     "output_type": "stream",
     "text": [
      "Epoch 1/5\n",
      "71/71 [==============================] - 88s 1s/step - loss: 1.0080 - accuracy: 0.6399 - val_loss: 0.7371 - val_accuracy: 0.7300\n",
      "Epoch 2/5\n",
      "71/71 [==============================] - 75s 1s/step - loss: 0.6178 - accuracy: 0.7777 - val_loss: 0.6996 - val_accuracy: 0.7287\n",
      "Epoch 3/5\n",
      "71/71 [==============================] - 87s 1s/step - loss: 0.4877 - accuracy: 0.8293 - val_loss: 0.6919 - val_accuracy: 0.7393\n",
      "Epoch 4/5\n",
      "71/71 [==============================] - 67s 950ms/step - loss: 0.3958 - accuracy: 0.8655 - val_loss: 0.7098 - val_accuracy: 0.7340\n",
      "Epoch 5/5\n",
      "71/71 [==============================] - 65s 920ms/step - loss: 0.3288 - accuracy: 0.8846 - val_loss: 0.7445 - val_accuracy: 0.7453\n"
     ]
    }
   ],
   "source": [
    "# Bidirectional LSTM model\n",
    "\n",
    "n_labels = len(train['Class'].unique())\n",
    "\n",
    "model = Sequential()\n",
    "\n",
    "model.add(Embedding(input_dim = MAX_NB_WORDS, output_dim = EMBEDDING_DIM,\n",
    "                    weights = [weights_w2v], input_length = MAX_SEQUENCE_LENGTH,\n",
    "                    mask_zero=True, trainable=False))\n",
    "\n",
    "model.add(Bidirectional(LSTM(100)))\n",
    "\n",
    "model.add(Dense(n_labels, activation='softmax'))\n",
    "\n",
    "model.compile(optimizer='adam', loss='sparse_categorical_crossentropy', metrics=['accuracy'])\n",
    "\n",
    "history = model.fit(X_train_LS, y_train_LS, epochs=5, batch_size=64,\n",
    "                    validation_data=(X_test_LS, y_test_LS), verbose=1)"
   ]
  },
  {
   "cell_type": "code",
   "execution_count": null,
   "metadata": {
    "colab": {
     "base_uri": "https://localhost:8080/",
     "height": 898
    },
    "id": "uDDqyrmsLD9i",
    "outputId": "ff998615-a41f-4e88-9803-7f3125bdc7b0"
   },
   "outputs": [
    {
     "name": "stdout",
     "output_type": "stream",
     "text": [
      "\n",
      "\n"
     ]
    },
    {
     "data": {
      "image/png": "[encoded data removed]",
      "text/plain": [
       "<Figure size 432x288 with 1 Axes>"
      ]
     },
     "metadata": {},
     "output_type": "display_data"
    },
    {
     "data": {
      "image/png": "[encoded data removed]",
      "text/plain": [
       "<Figure size 432x288 with 1 Axes>"
      ]
     },
     "metadata": {},
     "output_type": "display_data"
    },
    {
     "data": {
      "image/png": "[encoded data removed]",
      "text/plain": [
       "<Figure size 432x288 with 1 Axes>"
      ]
     },
     "metadata": {},
     "output_type": "display_data"
    }
   ],
   "source": [
    "Plots(history.history)"
   ]
  },
  {
   "cell_type": "code",
   "execution_count": null,
   "metadata": {
    "id": "w7VmPuFrYjQF"
   },
   "outputs": [],
   "source": []
  },
  {
   "cell_type": "markdown",
   "metadata": {
    "id": "xm4qOdpDNBl0"
   },
   "source": [
    "# **3- BERT for Dialectal Arabic**\n",
    "\n",
    "arabert model from - https://huggingface.co/aubmindlab/bert-base-arabert"
   ]
  },
  {
   "cell_type": "code",
   "execution_count": null,
   "metadata": {
    "id": "EV5-KRN-YL4s"
   },
   "outputs": [],
   "source": [
    "CUDA_LAUNCH_BLOCKING = 1\n",
    "import torch\n",
    "\n",
    "# device = torch.device(\"cuda:0\")\n",
    "device = 'cpu'"
   ]
  },
  {
   "cell_type": "code",
   "execution_count": null,
   "metadata": {
    "colab": {
     "base_uri": "https://localhost:8080/"
    },
    "id": "P9uEwDU53kj2",
    "outputId": "3a6638fb-69e8-4c08-c245-8070589f61e6"
   },
   "outputs": [
    {
     "name": "stdout",
     "output_type": "stream",
     "text": [
      "Looking in indexes: https://pypi.org/simple, https://us-python.pkg.dev/colab-wheels/public/simple/\n",
      "Requirement already satisfied: pyarabic in /usr/local/lib/python3.7/dist-packages (0.6.15)\n",
      "Requirement already satisfied: six>=1.14.0 in /usr/local/lib/python3.7/dist-packages (from pyarabic) (1.15.0)\n",
      "fatal: destination path 'arabert' already exists and is not an empty directory.\n",
      "Looking in indexes: https://pypi.org/simple, https://us-python.pkg.dev/colab-wheels/public/simple/\n",
      "Collecting farasapy\n",
      "  Downloading farasapy-0.0.14-py3-none-any.whl (11 kB)\n",
      "Requirement already satisfied: requests in /usr/local/lib/python3.7/dist-packages (from farasapy) (2.23.0)\n",
      "Requirement already satisfied: tqdm in /usr/local/lib/python3.7/dist-packages (from farasapy) (4.64.0)\n",
      "Requirement already satisfied: certifi>=2017.4.17 in /usr/local/lib/python3.7/dist-packages (from requests->farasapy) (2022.6.15)\n",
      "Requirement already satisfied: chardet<4,>=3.0.2 in /usr/local/lib/python3.7/dist-packages (from requests->farasapy) (3.0.4)\n",
      "Requirement already satisfied: urllib3!=1.25.0,!=1.25.1,<1.26,>=1.21.1 in /usr/local/lib/python3.7/dist-packages (from requests->farasapy) (1.24.3)\n",
      "Requirement already satisfied: idna<3,>=2.5 in /usr/local/lib/python3.7/dist-packages (from requests->farasapy) (2.10)\n",
      "Installing collected packages: farasapy\n",
      "Successfully installed farasapy-0.0.14\n"
     ]
    }
   ],
   "source": [
    "!pip install pyarabic\n",
    "!git clone https://github.com/aub-mind/arabert\n",
    "!pip install farasapy"
   ]
  },
  {
   "cell_type": "code",
   "execution_count": null,
   "metadata": {
    "id": "kdlmUm6d4GI3"
   },
   "outputs": [],
   "source": [
    "# importing liberaries for arabert\n",
    "from farasa.segmenter import FarasaSegmenter\n",
    "\n",
    "from sklearn.model_selection import train_test_split\n",
    "from sklearn.metrics import classification_report, accuracy_score, f1_score, confusion_matrix, precision_score , recall_score\n",
    "\n",
    "from transformers import AutoConfig, BertForSequenceClassification, AutoTokenizer\n",
    "from transformers.data.processors import SingleSentenceClassificationProcessor\n",
    "from transformers import Trainer , TrainingArguments"
   ]
  },
  {
   "cell_type": "code",
   "execution_count": null,
   "metadata": {
    "colab": {
     "base_uri": "https://localhost:8080/"
    },
    "id": "nDliJhs02KwC",
    "outputId": "2c32eff2-2263-430e-adcd-cfbfe08bbe66"
   },
   "outputs": [
    {
     "name": "stderr",
     "output_type": "stream",
     "text": [
      "[2022-08-25 21:41:11,957 - farasapy_logger - WARNING]: Be careful with large lines as they may break on interactive mode. You may switch to Standalone mode for such cases.\n"
     ]
    }
   ],
   "source": [
    "from sklearn.model_selection import train_test_split\n",
    "from arabert.preprocess import ArabertPreprocessor\n",
    "# Arabert model\n",
    "arabic_prep = ArabertPreprocessor('bert-base-arabert')\n",
    "\n",
    "# preparing data for arabert\n",
    "train['text_clean'] = train['text'].apply(lambda x: arabic_prep.preprocess(x))\n",
    "\n",
    "# label encoding\n",
    "l = train[\"Class\"].value_counts().index.tolist() \n",
    "mapping = {x:y for x,y in zip(l, range(len(l)))}\n",
    "train[\"Class\"] = train[\"Class\"].map(mapping)\n",
    "\n",
    "# train val split\n",
    "features = train.drop(['Class'], axis = 1)\n",
    "train_B, test_B = train_test_split(train, test_size=0.25)\n"
   ]
  },
  {
   "cell_type": "code",
   "execution_count": null,
   "metadata": {
    "colab": {
     "base_uri": "https://localhost:8080/"
    },
    "id": "uTTGX6AEzIGE",
    "outputId": "dc4b6423-8a4e-4cc3-cdd0-a67242b0988d"
   },
   "outputs": [
    {
     "name": "stdout",
     "output_type": "stream",
     "text": [
      "mkdir: cannot create directory ‘data’: File exists\n"
     ]
    }
   ],
   "source": [
    "\n",
    "# train dataframe\n",
    "train_df = pd.DataFrame({\n",
    "    'id':range(len(train_B)),\n",
    "    'label':train_B[\"Class\"],\n",
    "    'alpha':['a']*train_B.shape[0],\n",
    "    'text': train_B[\"text_clean\"].replace(r'\\n', ' ', regex=True)\n",
    "})\n",
    "# val dataframe\n",
    "dev_df = pd.DataFrame({\n",
    "    'id':range(len(test_B)),\n",
    "    'label':test_B[\"Class\"],\n",
    "    'alpha':['a']*test_B.shape[0],\n",
    "    'text': test_B[\"text_clean\"].replace(r'\\n', ' ', regex=True)\n",
    "})\n",
    "\n",
    "# saving the data\n",
    "!mkdir data\n",
    "train_df.to_csv(\"data/train.tsv\",index=False,columns=train_df.columns,sep='\\t',header=False)\n",
    "dev_df.to_csv(\"data/dev.tsv\",index=False,columns=dev_df.columns,sep='\\t',header=False)"
   ]
  },
  {
   "cell_type": "code",
   "execution_count": null,
   "metadata": {
    "id": "344Ff0uxzLmI"
   },
   "outputs": [],
   "source": [
    "model_name = 'aubmindlab/bert-base-arabert' \n",
    "num_labels = len(train['Class'].unique())\n",
    "task_name = 'classification'\n",
    "max_length = 100"
   ]
  },
  {
   "cell_type": "code",
   "execution_count": null,
   "metadata": {
    "colab": {
     "base_uri": "https://localhost:8080/"
    },
    "id": "bg1rjxExzO9S",
    "outputId": "c61d9a2b-ddc9-4f52-d6b4-37a17927d35e"
   },
   "outputs": [
    {
     "name": "stderr",
     "output_type": "stream",
     "text": [
      "Some weights of the model checkpoint at aubmindlab/bert-base-arabert were not used when initializing BertForSequenceClassification: ['cls.predictions.transform.dense.bias', 'cls.predictions.transform.LayerNorm.weight', 'cls.predictions.transform.dense.weight', 'cls.seq_relationship.bias', 'cls.seq_relationship.weight', 'cls.predictions.decoder.weight', 'cls.predictions.transform.LayerNorm.bias', 'cls.predictions.bias']\n",
      "- This IS expected if you are initializing BertForSequenceClassification from the checkpoint of a model trained on another task or with another architecture (e.g. initializing a BertForSequenceClassification model from a BertForPreTraining model).\n",
      "- This IS NOT expected if you are initializing BertForSequenceClassification from the checkpoint of a model that you expect to be exactly identical (initializing a BertForSequenceClassification model from a BertForSequenceClassification model).\n",
      "Some weights of BertForSequenceClassification were not initialized from the model checkpoint at aubmindlab/bert-base-arabert and are newly initialized: ['classifier.bias', 'classifier.weight']\n",
      "You should probably TRAIN this model on a down-stream task to be able to use it for predictions and inference.\n"
     ]
    }
   ],
   "source": [
    "config = AutoConfig.from_pretrained(model_name,num_labels=num_labels, output_attentions=True) \n",
    "tokenizer = AutoTokenizer.from_pretrained(model_name, do_lower_case=False,  model_max_length=max_length, do_basic_tokenize=True)\n",
    "model = BertForSequenceClassification.from_pretrained(model_name,config=config)"
   ]
  },
  {
   "cell_type": "code",
   "execution_count": null,
   "metadata": {
    "id": "qbkGsHh3zT6u"
   },
   "outputs": [],
   "source": [
    "# pre processing data for arabert\n",
    "train_dataset = SingleSentenceClassificationProcessor(mode='classification')\n",
    "test_dataset = SingleSentenceClassificationProcessor(mode='classification')"
   ]
  },
  {
   "cell_type": "code",
   "execution_count": null,
   "metadata": {
    "colab": {
     "base_uri": "https://localhost:8080/"
    },
    "id": "i2d3qTcD0o5P",
    "outputId": "d94fb05e-c124-4258-a695-128d4ce325ab"
   },
   "outputs": [
    {
     "name": "stdout",
     "output_type": "stream",
     "text": [
      "InputExample(guid=None, text_a='أي أكتر مكان ترشحهولى في كيوتو أكتر من أي حاج +ة تاني +ة', text_b=None, label=2)\n"
     ]
    }
   ],
   "source": [
    "train_dataset.add_examples(texts_or_text_and_labels=train_df['text'],labels=train_df['label'],overwrite_examples = True)\n",
    "test_dataset.add_examples(texts_or_text_and_labels=dev_df['text'],labels=dev_df['label'],overwrite_examples = True)\n",
    "\n",
    "print(train_dataset.examples[0])"
   ]
  },
  {
   "cell_type": "code",
   "execution_count": null,
   "metadata": {
    "colab": {
     "base_uri": "https://localhost:8080/"
    },
    "id": "PuTJggbi0uDj",
    "outputId": "f4ed4e6f-b68e-4e4b-9ece-29a388ee3479"
   },
   "outputs": [
    {
     "name": "stderr",
     "output_type": "stream",
     "text": [
      "Truncation was not explicitly activated but `max_length` is provided a specific value, please use `truncation=True` to explicitly truncate examples to max length. Defaulting to 'longest_first' truncation strategy. If you encode pairs of sequences (GLUE-style) with the tokenizer you can select this strategy more precisely by providing a specific strategy to `truncation`.\n"
     ]
    }
   ],
   "source": [
    "train_features = train_dataset.get_features(tokenizer = tokenizer, max_length = max_length)\n",
    "test_features = test_dataset.get_features(tokenizer = tokenizer, max_length = max_length)"
   ]
  },
  {
   "cell_type": "code",
   "execution_count": null,
   "metadata": {
    "id": "YkgeUafvylXc"
   },
   "outputs": [],
   "source": [
    "# predefined train arguments function\n",
    "training_args = TrainingArguments(\"./train\")"
   ]
  },
  {
   "cell_type": "code",
   "execution_count": null,
   "metadata": {
    "id": "E_xiHVNpyZFV"
   },
   "outputs": [],
   "source": [
    "# setting parameters\n",
    "training_args.do_train = True\n",
    "training_args.evaluate_during_training = True\n",
    "training_args.adam_epsilon = 1e-8\n",
    "training_args.learning_rate = 2e-5\n",
    "training_args.warmup_steps = 0\n",
    "training_args.per_gpu_train_batch_size = 16\n",
    "training_args.per_gpu_eval_batch_size = 16\n",
    "training_args.num_train_epochs= 5\n",
    "training_args.logging_steps = (len(train) - 1) // training_args.per_gpu_train_batch_size + 1\n",
    "training_args.save_steps = training_args.logging_steps \n",
    "training_args.seed = 42\n",
    "#training_args.logging_dir = \"gs://\" from torch.utils.tensorboard import SummaryWriter supports google cloud storage"
   ]
  },
  {
   "cell_type": "code",
   "execution_count": null,
   "metadata": {
    "id": "x0chMDHSbv5v"
   },
   "outputs": [],
   "source": [
    "#https://github.com/huggingface/transformers/blob/master/src/transformers/trainer_utils.py\n",
    "def compute_metrics(p): #p should be of type EvalPrediction\n",
    "  print(p.predictions)\n",
    "  preds = np.argmax(p.predictions, axis=0)\n",
    "  assert len(preds) == len(p.label_ids)\n",
    "  print(classification_report(p.label_ids,preds))\n",
    "  print(confusion_matrix(p.label_ids,preds))\n",
    "\n",
    "  f1_Positive = f1_score(p.label_ids,preds,pos_label=1,average='binary')\n",
    "  f1_Negative = f1_score(p.label_ids,preds,pos_label=0,average='binary')\n",
    "  macro_f1 = f1_score(p.label_ids,preds,average='macro')\n",
    "  macro_precision = precision_score(p.label_ids,preds,average='macro')\n",
    "  macro_recall = recall_score(p.label_ids,preds,average='macro')\n",
    "  acc = accuracy_score(p.label_ids,preds)\n",
    "  return {\n",
    "      'f1_pos': f1_Positive,\n",
    "      'f1_neg': f1_Negative,\n",
    "      'macro_f1' : macro_f1, \n",
    "      'macro_precision': macro_precision,\n",
    "      'macro_recall': macro_recall,\n",
    "      'accuracy': acc\n",
    "  }"
   ]
  },
  {
   "cell_type": "code",
   "execution_count": null,
   "metadata": {
    "colab": {
     "base_uri": "https://localhost:8080/"
    },
    "id": "QlPNFzq_yRuo",
    "outputId": "62266858-d6a0-44b7-a37d-566bd5890858"
   },
   "outputs": [
    {
     "name": "stderr",
     "output_type": "stream",
     "text": [
      "Using deprecated `--per_gpu_train_batch_size` argument which will be removed in a future version. Using `--per_device_train_batch_size` is preferred.\n"
     ]
    }
   ],
   "source": [
    "trainer = Trainer(model=model,\n",
    "                  args = training_args,\n",
    "                  train_dataset = train_features,\n",
    "                  eval_dataset = test_features,\n",
    "                  compute_metrics = compute_metrics)"
   ]
  },
  {
   "cell_type": "code",
   "execution_count": null,
   "metadata": {
    "colab": {
     "base_uri": "https://localhost:8080/",
     "height": 751
    },
    "id": "RvPyy8xEyUHe",
    "outputId": "3d189192-9b65-468e-dbb1-0b0a8feb3eab"
   },
   "outputs": [
    {
     "metadata": {
      "tags": null
     },
     "name": "stderr",
     "output_type": "stream",
     "text": [
      "Using deprecated `--per_gpu_train_batch_size` argument which will be removed in a future version. Using `--per_device_train_batch_size` is preferred.\n",
      "/usr/local/lib/python3.7/dist-packages/transformers/optimization.py:310: FutureWarning: This implementation of AdamW is deprecated and will be removed in a future version. Use the PyTorch implementation torch.optim.AdamW instead, or set `no_deprecation_warning=True` to disable this warning\n",
      "  FutureWarning,\n",
      "***** Running training *****\n",
      "  Num examples = 4499\n",
      "  Num Epochs = 5\n",
      "  Instantaneous batch size per device = 8\n",
      "  Total train batch size (w. parallel, distributed & accumulation) = 16\n",
      "  Gradient Accumulation steps = 1\n",
      "  Total optimization steps = 1410\n",
      "Using deprecated `--per_gpu_train_batch_size` argument which will be removed in a future version. Using `--per_device_train_batch_size` is preferred.\n",
      "Using deprecated `--per_gpu_eval_batch_size` argument which will be removed in a future version. Using `--per_device_eval_batch_size` is preferred.\n"
     ]
    },
    {
     "data": {
      "text/html": [
       "\n",
       "    <div>\n",
       "      \n",
       "      <progress value='92' max='1410' style='width:300px; height:20px; vertical-align: middle;'></progress>\n",
       "      [  92/1410 15:48 < 3:51:28, 0.09 it/s, Epoch 0.32/5]\n",
       "    </div>\n",
       "    <table border=\"1\" class=\"dataframe\">\n",
       "  <thead>\n",
       " <tr style=\"text-align: left;\">\n",
       "      <th>Step</th>\n",
       "      <th>Training Loss</th>\n",
       "    </tr>\n",
       "  </thead>\n",
       "  <tbody>\n",
       "  </tbody>\n",
       "</table><p>"
      ],
      "text/plain": [
       "<IPython.core.display.HTML object>"
      ]
     },
     "metadata": {},
     "output_type": "display_data"
    },
    {
     "data": {
      "text/html": [
       "\n",
       "    <div>\n",
       "      \n",
       "      <progress value='1410' max='1410' style='width:300px; height:20px; vertical-align: middle;'></progress>\n",
       "      [1410/1410 4:04:55, Epoch 5/5]\n",
       "    </div>\n",
       "    <table border=\"1\" class=\"dataframe\">\n",
       "  <thead>\n",
       " <tr style=\"text-align: left;\">\n",
       "      <th>Step</th>\n",
       "      <th>Training Loss</th>\n",
       "    </tr>\n",
       "  </thead>\n",
       "  <tbody>\n",
       "    <tr>\n",
       "      <td>375</td>\n",
       "      <td>1.088300</td>\n",
       "    </tr>\n",
       "    <tr>\n",
       "      <td>750</td>\n",
       "      <td>0.509400</td>\n",
       "    </tr>\n",
       "    <tr>\n",
       "      <td>1125</td>\n",
       "      <td>0.292500</td>\n",
       "    </tr>\n",
       "  </tbody>\n",
       "</table><p>"
      ],
      "text/plain": [
       "<IPython.core.display.HTML object>"
      ]
     },
     "metadata": {},
     "output_type": "display_data"
    },
    {
     "name": "stderr",
     "output_type": "stream",
     "text": [
      "Saving model checkpoint to ./train/checkpoint-375\n",
      "Configuration saved in ./train/checkpoint-375/config.json\n",
      "Model weights saved in ./train/checkpoint-375/pytorch_model.bin\n",
      "Saving model checkpoint to ./train/checkpoint-750\n",
      "Configuration saved in ./train/checkpoint-750/config.json\n",
      "Model weights saved in ./train/checkpoint-750/pytorch_model.bin\n",
      "Saving model checkpoint to ./train/checkpoint-1125\n",
      "Configuration saved in ./train/checkpoint-1125/config.json\n",
      "Model weights saved in ./train/checkpoint-1125/pytorch_model.bin\n",
      "\n",
      "\n",
      "Training completed. Do not forget to share your model on huggingface.co/models =)\n",
      "\n",
      "\n"
     ]
    },
    {
     "data": {
      "text/plain": [
       "TrainOutput(global_step=1410, training_loss=0.5403172864981577, metrics={'train_runtime': 14711.4461, 'train_samples_per_second': 1.529, 'train_steps_per_second': 0.096, 'total_flos': 693620596429200.0, 'train_loss': 0.5403172864981577, 'epoch': 5.0})"
      ]
     },
     "execution_count": 16,
     "metadata": {},
     "output_type": "execute_result"
    }
   ],
   "source": [
    "# fine tuning pretrained arabert model\n",
    "trainer.train()"
   ]
  },
  {
   "cell_type": "code",
   "execution_count": null,
   "metadata": {
    "id": "h39dShdN9N0y"
   },
   "outputs": [],
   "source": [
    "import torch\n",
    "torch.save(model, '/content/arabertModel_finet.bin')"
   ]
  },
  {
   "cell_type": "code",
   "execution_count": null,
   "metadata": {
    "colab": {
     "base_uri": "https://localhost:8080/"
    },
    "id": "wHc7951m282z",
    "outputId": "99fc7654-dc13-4153-c432-e277137f5122"
   },
   "outputs": [
    {
     "name": "stdout",
     "output_type": "stream",
     "text": [
      "  adding: content/train/ (stored 0%)\n",
      "  adding: content/train/runs/ (stored 0%)\n",
      "  adding: content/train/runs/Aug25_21-42-11_f0cf9f000bd2/ (stored 0%)\n",
      "  adding: content/train/runs/Aug25_21-42-11_f0cf9f000bd2/1661463748.9770088/ (stored 0%)\n",
      "  adding: content/train/runs/Aug25_21-42-11_f0cf9f000bd2/1661463748.9770088/events.out.tfevents.1661463748.f0cf9f000bd2.702.1 (deflated 63%)\n",
      "  adding: content/train/runs/Aug25_21-42-11_f0cf9f000bd2/events.out.tfevents.1661463748.f0cf9f000bd2.702.0 (deflated 57%)\n",
      "  adding: content/train/checkpoint-1125/ (stored 0%)\n",
      "  adding: content/train/checkpoint-1125/scheduler.pt (deflated 49%)\n",
      "  adding: content/train/checkpoint-1125/pytorch_model.bin (deflated 7%)\n",
      "  adding: content/train/checkpoint-1125/config.json (deflated 57%)\n",
      "  adding: content/train/checkpoint-1125/optimizer.pt (deflated 39%)\n",
      "  adding: content/train/checkpoint-1125/training_args.bin (deflated 48%)\n",
      "  adding: content/train/checkpoint-1125/rng_state.pth (deflated 23%)\n",
      "  adding: content/train/checkpoint-1125/trainer_state.json (deflated 55%)\n",
      "  adding: content/train/checkpoint-375/ (stored 0%)\n",
      "  adding: content/train/checkpoint-375/scheduler.pt (deflated 49%)\n",
      "  adding: content/train/checkpoint-375/pytorch_model.bin (deflated 7%)\n",
      "  adding: content/train/checkpoint-375/config.json (deflated 57%)\n",
      "  adding: content/train/checkpoint-375/optimizer.pt (deflated 39%)\n",
      "  adding: content/train/checkpoint-375/training_args.bin (deflated 48%)\n",
      "  adding: content/train/checkpoint-375/rng_state.pth (deflated 23%)\n",
      "  adding: content/train/checkpoint-375/trainer_state.json (deflated 46%)\n",
      "  adding: content/train/checkpoint-750/ (stored 0%)\n",
      "  adding: content/train/checkpoint-750/scheduler.pt (deflated 49%)\n",
      "  adding: content/train/checkpoint-750/pytorch_model.bin (deflated 7%)\n",
      "  adding: content/train/checkpoint-750/config.json (deflated 57%)\n",
      "  adding: content/train/checkpoint-750/optimizer.pt (deflated 39%)\n",
      "  adding: content/train/checkpoint-750/training_args.bin (deflated 48%)\n",
      "  adding: content/train/checkpoint-750/rng_state.pth (deflated 23%)\n",
      "  adding: content/train/checkpoint-750/trainer_state.json (deflated 50%)\n"
     ]
    }
   ],
   "source": [
    "!zip -r /content/train.zip /content/train"
   ]
  },
  {
   "cell_type": "code",
   "execution_count": null,
   "metadata": {
    "colab": {
     "base_uri": "https://localhost:8080/",
     "height": 144
    },
    "id": "EZVONWxU3s2B",
    "outputId": "1c0c8059-2041-4674-b166-4f032dc4dcb7"
   },
   "outputs": [
    {
     "name": "stderr",
     "output_type": "stream",
     "text": [
      "Using deprecated `--per_gpu_eval_batch_size` argument which will be removed in a future version. Using `--per_device_eval_batch_size` is preferred.\n",
      "Using deprecated `--per_gpu_eval_batch_size` argument which will be removed in a future version. Using `--per_device_eval_batch_size` is preferred.\n",
      "***** Running Evaluation *****\n",
      "  Num examples = 1500\n",
      "  Batch size = 16\n"
     ]
    },
    {
     "data": {
      "text/html": [
       "\n",
       "    <div>\n",
       "      \n",
       "      <progress value='217' max='94' style='width:300px; height:20px; vertical-align: middle;'></progress>\n",
       "      [94/94 14:56]\n",
       "    </div>\n",
       "    "
      ],
      "text/plain": [
       "<IPython.core.display.HTML object>"
      ]
     },
     "metadata": {},
     "output_type": "display_data"
    }
   ],
   "source": [
    "# evaluation of fine tunned arabert model\n",
    "trainer.evaluate()"
   ]
  },
  {
   "cell_type": "code",
   "execution_count": null,
   "metadata": {
    "id": "hSVuUy_Z5a_d"
   },
   "outputs": [],
   "source": []
  }
 ],
 "metadata": {
  "colab": {
   "name": "Patil_Renuka_NLP_1.ipynb",
   "provenance": []
  },
  "kernelspec": {
   "display_name": "Python 3 (ipykernel)",
   "language": "python",
   "name": "python3"
  },
  "language_info": {
   "codemirror_mode": {
    "name": "ipython",
    "version": 3
   },
   "file_extension": ".py",
   "mimetype": "text/x-python",
   "name": "python",
   "nbconvert_exporter": "python",
   "pygments_lexer": "ipython3",
   "version": "3.9.10"
  }
 },
 "nbformat": 4,
 "nbformat_minor": 1
}
